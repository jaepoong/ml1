{
 "cells": [
  {
   "cell_type": "code",
   "execution_count": 9,
   "id": "constitutional-picking",
   "metadata": {},
   "outputs": [
    {
     "data": {
      "text/plain": [
       "Point(x=997, y=590)"
      ]
     },
     "execution_count": 9,
     "metadata": {},
     "output_type": "execute_result"
    }
   ],
   "source": [
    "import pyautogui\n",
    "import time\n",
    "#현재 커서의 위치\n",
    "pyautogui.position()"
   ]
  },
  {
   "cell_type": "code",
   "execution_count": 11,
   "id": "straight-chicago",
   "metadata": {},
   "outputs": [],
   "source": [
    "#해당위치로 3번째 파라미터 속도로 이동\n",
    "pyautogui.moveTo(997,590,1)\n",
    "#클릭 두번을 2초간격으로\n",
    "pyautogui.click(clicks=2)\n",
    "#1초간 공백기\n",
    "time.sleep(1)\n",
    "#a,b,c키를 누르고 엔터를 친다.\n",
    "pyautogui.typewrite(['a','b','c','enter'])\n",
    "#hello를 쓴다\n",
    "pyautogui.typewrite('hello')"
   ]
  },
  {
   "cell_type": "code",
   "execution_count": null,
   "id": "broken-understanding",
   "metadata": {},
   "outputs": [],
   "source": []
  }
 ],
 "metadata": {
  "kernelspec": {
   "display_name": "Python 3",
   "language": "python",
   "name": "python3"
  },
  "language_info": {
   "codemirror_mode": {
    "name": "ipython",
    "version": 3
   },
   "file_extension": ".py",
   "mimetype": "text/x-python",
   "name": "python",
   "nbconvert_exporter": "python",
   "pygments_lexer": "ipython3",
   "version": "3.9.1"
  }
 },
 "nbformat": 4,
 "nbformat_minor": 5
}
