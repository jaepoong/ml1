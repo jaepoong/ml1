{
 "cells": [
  {
   "cell_type": "code",
   "execution_count": 43,
   "id": "d10d8f63-70c0-4058-913d-6e73f6764f81",
   "metadata": {},
   "outputs": [],
   "source": [
    "from PIL import Image\n",
    "from PIL import ImageFilter"
   ]
  },
  {
   "cell_type": "code",
   "execution_count": 49,
   "id": "db9b3d92-a101-4699-b765-fb8a645e0e2d",
   "metadata": {},
   "outputs": [],
   "source": [
    "#image 불러내기\n",
    "path=\"C:/Users/DSLab_2/Desktop/KakaoTalk_20210520_195357013.jpg\"\n",
    "path2=\"C:/Users/DSLab_2/Desktop/KakaoTalk_20210520_195357432.jpg\"\n",
    "img=Image.open(path)\n",
    "img2=Image.open(path2)"
   ]
  },
  {
   "cell_type": "code",
   "execution_count": 33,
   "id": "7bf0765f-b66b-4a9b-a89f-45b167c9edcd",
   "metadata": {},
   "outputs": [
    {
     "data": {
      "text/plain": [
       "'RGB'"
      ]
     },
     "execution_count": 33,
     "metadata": {},
     "output_type": "execute_result"
    }
   ],
   "source": [
    "#imag 보이기,파일이름,넓이픽셀,높이픽셀,rgb등의 색상 요소\n",
    "img.show()\n",
    "img.filename\n",
    "img.width\n",
    "img.height\n",
    "img.mode"
   ]
  },
  {
   "cell_type": "code",
   "execution_count": 30,
   "id": "c2b3261c-09f0-4a40-84a3-fa0d2f172ce5",
   "metadata": {},
   "outputs": [],
   "source": [
    "#이미지 픽셀 개수 변경,리사이징\n",
    "resize_img=img.resize((img.width//2,img.height//2))\n",
    "resize_img.show()"
   ]
  },
  {
   "cell_type": "code",
   "execution_count": 39,
   "id": "bc307d21-2ddc-4b66-957c-8cf41fc3fec9",
   "metadata": {},
   "outputs": [],
   "source": [
    "#이미지 자르기\n",
    "cropped_img=img.crop((100,100,400,400))\n",
    "cropped_img.show()"
   ]
  },
  {
   "cell_type": "code",
   "execution_count": 40,
   "id": "18addb69-f4a9-435a-909d-97209f276239",
   "metadata": {},
   "outputs": [],
   "source": [
    "#이미지 회전\n",
    "img.rotate(45).show()"
   ]
  },
  {
   "cell_type": "code",
   "execution_count": 42,
   "id": "0c557ffc-d6fb-400d-9f0f-f87e2b78ef20",
   "metadata": {},
   "outputs": [],
   "source": [
    "#이미지 대칭 뒤집기\n",
    "#이미지 회전하기\n",
    "flip_img=img.transpose(Image.FLIP_LEFT_RIGHT)\n",
    "flip_img.show()\n",
    "flip_img2=img.transpose(Image.FLIP_TOP_BOTTOM)\n",
    "flip_img2.show()\n",
    "flip_img3=img.transpose(Image.ROTATE_270)\n",
    "flip_img3.show()"
   ]
  },
  {
   "cell_type": "code",
   "execution_count": 44,
   "id": "7e7371a9-de25-4a19-a5cb-9b13d8d1d3cb",
   "metadata": {},
   "outputs": [],
   "source": [
    "#이미지 흐리기 필터. 3가지\n",
    "#필터 종류가 상당히 많음.\n",
    "blur_img=img.filter(ImageFilter.BLUR)\n",
    "blur_img2=img.filter(ImageFilter.BoxBlur(10))\n",
    "blur_img3=img.filter(ImageFilter.GaussianBlur(10))\n",
    "blur_img.show()\n",
    "blur_img2.show()\n",
    "blur_img3.show()"
   ]
  },
  {
   "cell_type": "code",
   "execution_count": 51,
   "id": "5bfa590d-44cd-46c1-8721-9ae34258e975",
   "metadata": {},
   "outputs": [],
   "source": [
    "#이미지 합치기.\n",
    "new_img=Image.new(\"RGB\",(5000,5000),300000)\n",
    "new_img.paste(img,(10,10))\n",
    "new_img.paste(img2,(img.width+10,10))\n",
    "new_img.show()"
   ]
  },
  {
   "cell_type": "code",
   "execution_count": 54,
   "id": "f27cb6b7-295d-469c-8a43-684f9c355929",
   "metadata": {},
   "outputs": [],
   "source": [
    "#이미지 저장.\n",
    "new_img.save(\"C:/Users/DSLab_2/hi.jpg\")"
   ]
  },
  {
   "cell_type": "code",
   "execution_count": 58,
   "id": "dc270475-5083-453b-893a-68be4f6669c0",
   "metadata": {},
   "outputs": [],
   "source": [
    "import io\n",
    "#바이트배열로 변환 후 표출\n",
    "bytearr=io.BytesIO()\n",
    "img.save(bytearr,format=\"JPEG\")\n",
    "print(bytearr.getvalue())\n",
    "#함수로 만들편 편리하겠지?\n",
    "def image_to_byte_array(image):\n",
    "    imgbytearr=io.BytesIO()\n",
    "    image.save(imgbytearr,format=image.format)\n",
    "    imgbytearr=imgbytearr.getvalue()\n",
    "    return imgbytearr"
   ]
  },
  {
   "cell_type": "code",
   "execution_count": 63,
   "id": "033387b4-428b-4871-8d61-9fcc67261509",
   "metadata": {},
   "outputs": [
    {
     "name": "stdout",
     "output_type": "stream",
     "text": [
      "[[[ 41  56   1]\n",
      "  [ 52  68   5]\n",
      "  [ 88 109  34]\n",
      "  ...\n",
      "  [ 69 101   0]\n",
      "  [ 67  90  12]\n",
      "  [ 78  92  57]]\n",
      "\n",
      " [[ 41  57   0]\n",
      "  [ 68  85  17]\n",
      "  [ 75  96  21]\n",
      "  ...\n",
      "  [ 78 111   0]\n",
      "  [ 76 100  16]\n",
      "  [ 72  87  48]]\n",
      "\n",
      " [[ 68  85  15]\n",
      "  [ 53  70   0]\n",
      "  [ 79  99  27]\n",
      "  ...\n",
      "  [ 85 119   0]\n",
      "  [ 86 111  19]\n",
      "  [ 72  88  43]]\n",
      "\n",
      " ...\n",
      "\n",
      " [[ 96 126   4]\n",
      "  [109 137  27]\n",
      "  [ 82 108   9]\n",
      "  ...\n",
      "  [101 126  24]\n",
      "  [ 83 102  23]\n",
      "  [ 84  94  57]]\n",
      "\n",
      " [[108 132  38]\n",
      "  [108 130  48]\n",
      "  [ 74  96  24]\n",
      "  ...\n",
      "  [106 129  38]\n",
      "  [ 97 114  44]\n",
      "  [100 109  78]]\n",
      "\n",
      " [[107 127  56]\n",
      "  [109 127  69]\n",
      "  [ 80  96  51]\n",
      "  ...\n",
      "  [117 139  56]\n",
      "  [113 129  67]\n",
      "  [102 110  86]]]\n",
      "(1440, 1081, 3)\n"
     ]
    }
   ],
   "source": [
    "import numpy as np\n",
    "numpy_img=np.array(img)\n",
    "print(numpy_img)\n",
    "print(numpy_img.shape)"
   ]
  },
  {
   "cell_type": "code",
   "execution_count": 66,
   "id": "76f13562-9230-4222-8d79-4ccbcca28b85",
   "metadata": {},
   "outputs": [],
   "source": [
    "#넘파이 배열을 이미지로 변환\n",
    "numpy_to_img=Image.fromarray(numpy_img,'RGB')\n",
    "numpy_to_img.show()"
   ]
  },
  {
   "cell_type": "code",
   "execution_count": 70,
   "id": "602b9cc4-b988-431c-bbb4-6b6f7bd2ca53",
   "metadata": {},
   "outputs": [
    {
     "name": "stderr",
     "output_type": "stream",
     "text": [
      "IOPub data rate exceeded.\n",
      "The Jupyter server will temporarily stop sending output\n",
      "to the client in order to avoid crashing it.\n",
      "To change this limit, set the config variable\n",
      "`--ServerApp.iopub_data_rate_limit`.\n",
      "\n",
      "Current values:\n",
      "ServerApp.iopub_data_rate_limit=1000000.0 (bytes/sec)\n",
      "ServerApp.rate_limit_window=3.0 (secs)\n",
      "\n"
     ]
    }
   ],
   "source": [
    "#이미지 픽셀 값으로 변환\n",
    "pixel_list=list(img.getdata())\n",
    "print(pixel_list)\n",
    "np.savetxt(\"pixel_type_data.txt\",pixel_list,fmt='%d',delimiter=\" \")"
   ]
  },
  {
   "cell_type": "code",
   "execution_count": null,
   "id": "cd370cdf-8818-4477-a917-7952857a91bc",
   "metadata": {},
   "outputs": [],
   "source": [
    "#이미지의 특정 픽셀의 rgb 생상 구하는 방법\n",
    "rgb_img=img.convert(\"RGB\")\n",
    "tuple_item="
   ]
  }
 ],
 "metadata": {
  "kernelspec": {
   "display_name": "Python 3",
   "language": "python",
   "name": "python3"
  },
  "language_info": {
   "codemirror_mode": {
    "name": "ipython",
    "version": 3
   },
   "file_extension": ".py",
   "mimetype": "text/x-python",
   "name": "python",
   "nbconvert_exporter": "python",
   "pygments_lexer": "ipython3",
   "version": "3.8.8"
  }
 },
 "nbformat": 4,
 "nbformat_minor": 5
}
